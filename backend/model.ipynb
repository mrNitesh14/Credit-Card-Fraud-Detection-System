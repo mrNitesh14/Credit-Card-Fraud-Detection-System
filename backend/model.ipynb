{
 "cells": [
  {
   "cell_type": "code",
   "execution_count": 1,
   "metadata": {},
   "outputs": [],
   "source": [
    "# Core Libraries\n",
    "import pandas as pd\n",
    "import numpy as np\n",
    "import matplotlib.pyplot as plt\n",
    "import seaborn as sns\n",
    "import joblib\n",
    "import pickle\n",
    "\n",
    "# Machine Learning\n",
    "from sklearn.model_selection import train_test_split, StratifiedKFold\n",
    "from sklearn.preprocessing import LabelEncoder, StandardScaler\n",
    "from sklearn.impute import SimpleImputer\n",
    "from sklearn.linear_model import LogisticRegression\n",
    "from sklearn.ensemble import RandomForestClassifier, VotingClassifier\n",
    "from sklearn.svm import SVC\n",
    "from xgboost import XGBClassifier\n",
    "\n",
    "# Evaluation\n",
    "from sklearn.metrics import accuracy_score, classification_report, confusion_matrix, ConfusionMatrixDisplay, roc_curve\n",
    "\n",
    "# Handling Imbalanced Data\n",
    "from imblearn.over_sampling import SMOTE\n"
   ]
  },
  {
   "cell_type": "code",
   "execution_count": 2,
   "metadata": {},
   "outputs": [
    {
     "name": "stdout",
     "output_type": "stream",
     "text": [
      "                          TransactionID  CustomerID  TransactionAmount  \\\n",
      "0  5b1ee9a5-79d5-41a9-b796-2c822bc00488        8270        2833.262435   \n",
      "1  6d2fc408-ff54-49b9-81cb-b664fca46381        1860        3404.762325   \n",
      "2  e808407a-3e67-4afa-b297-663a9550dc5a        6390        3376.091549   \n",
      "3  d39c04b1-4fca-4a67-a380-16343249e6cd        6191        1199.136588   \n",
      "4  2dc4c909-f981-4868-89a1-7cf52d9da05a        6734        2315.429265   \n",
      "\n",
      "   TransactionDateTime  MerchantID MerchantCategory TransactionType CardType  \\\n",
      "0  2023-07-28 03:01:31       79306           Retail      Withdrawal   Credit   \n",
      "1  2022-02-11 04:05:14       29726           Retail        Purchase   Credit   \n",
      "2  2025-01-25 18:21:12       19088      Electronics        Purchase    Debit   \n",
      "3  2024-04-10 00:14:11       44314    Entertainment      Withdrawal  Prepaid   \n",
      "4  2021-12-04 18:56:06       65041    Entertainment        Transfer    Debit   \n",
      "\n",
      "     EntryMode TransactionLocation      IP_Address DeviceType  CardPresent  \\\n",
      "0    Magstripe          Pamelaside  171.231.226.75     Tablet            0   \n",
      "1  Contactless          Camposview  22.174.135.157        POS            0   \n",
      "2       Online   Port Jenniferland     62.31.49.72     Mobile            1   \n",
      "3    Magstripe         Matthewfurt     98.6.224.64     Tablet            1   \n",
      "4    Magstripe          Thomasstad   119.84.35.150     Mobile            0   \n",
      "\n",
      "   PreviousFraudTransactions  AccountAge  DailyTransactionCount  \\\n",
      "0                          4         596                      5   \n",
      "1                          6        1014                      5   \n",
      "2                          3         540                      8   \n",
      "3                          5        3351                      2   \n",
      "4                          7          12                      9   \n",
      "\n",
      "   DailyTransactionAmount  IsInternational  TimeSinceLastTransaction  \\\n",
      "0             6430.153621                1                     66918   \n",
      "1             5126.453239                1                     71136   \n",
      "2             2552.090223                1                     75035   \n",
      "3             4554.912188                1                     46892   \n",
      "4             2936.599542                1                     41442   \n",
      "\n",
      "   FraudFlag  \n",
      "0          1  \n",
      "1          1  \n",
      "2          0  \n",
      "3          0  \n",
      "4          1  \n"
     ]
    }
   ],
   "source": [
    "# Load dataset\n",
    "df = pd.read_csv(\"fraud_detection_dataset.csv\")\n",
    "\n",
    "# Display first few rows\n",
    "print(df.head())"
   ]
  },
  {
   "cell_type": "code",
   "execution_count": 3,
   "metadata": {},
   "outputs": [
    {
     "name": "stdout",
     "output_type": "stream",
     "text": [
      "<class 'pandas.core.frame.DataFrame'>\n",
      "RangeIndex: 5000 entries, 0 to 4999\n",
      "Data columns (total 20 columns):\n",
      " #   Column                     Non-Null Count  Dtype  \n",
      "---  ------                     --------------  -----  \n",
      " 0   TransactionID              5000 non-null   object \n",
      " 1   CustomerID                 5000 non-null   int64  \n",
      " 2   TransactionAmount          5000 non-null   float64\n",
      " 3   TransactionDateTime        5000 non-null   object \n",
      " 4   MerchantID                 5000 non-null   int64  \n",
      " 5   MerchantCategory           5000 non-null   object \n",
      " 6   TransactionType            5000 non-null   object \n",
      " 7   CardType                   5000 non-null   object \n",
      " 8   EntryMode                  5000 non-null   object \n",
      " 9   TransactionLocation        5000 non-null   object \n",
      " 10  IP_Address                 5000 non-null   object \n",
      " 11  DeviceType                 5000 non-null   object \n",
      " 12  CardPresent                5000 non-null   int64  \n",
      " 13  PreviousFraudTransactions  5000 non-null   int64  \n",
      " 14  AccountAge                 5000 non-null   int64  \n",
      " 15  DailyTransactionCount      5000 non-null   int64  \n",
      " 16  DailyTransactionAmount     5000 non-null   float64\n",
      " 17  IsInternational            5000 non-null   int64  \n",
      " 18  TimeSinceLastTransaction   5000 non-null   int64  \n",
      " 19  FraudFlag                  5000 non-null   int64  \n",
      "dtypes: float64(2), int64(9), object(9)\n",
      "memory usage: 781.4+ KB\n"
     ]
    }
   ],
   "source": [
    "df.info()"
   ]
  },
  {
   "cell_type": "code",
   "execution_count": 5,
   "metadata": {},
   "outputs": [
    {
     "name": "stdout",
     "output_type": "stream",
     "text": [
      "TransactionID                0\n",
      "CustomerID                   0\n",
      "TransactionAmount            0\n",
      "TransactionDateTime          0\n",
      "MerchantID                   0\n",
      "MerchantCategory             0\n",
      "TransactionType              0\n",
      "CardType                     0\n",
      "EntryMode                    0\n",
      "TransactionLocation          0\n",
      "IP_Address                   0\n",
      "DeviceType                   0\n",
      "CardPresent                  0\n",
      "PreviousFraudTransactions    0\n",
      "AccountAge                   0\n",
      "DailyTransactionCount        0\n",
      "DailyTransactionAmount       0\n",
      "IsInternational              0\n",
      "TimeSinceLastTransaction     0\n",
      "FraudFlag                    0\n",
      "dtype: int64\n"
     ]
    },
    {
     "data": {
      "text/plain": [
       "Index(['TransactionAmount', 'MerchantCategory', 'TransactionType', 'CardType',\n",
       "       'EntryMode', 'TransactionLocation', 'IP_Address', 'DeviceType',\n",
       "       'CardPresent', 'PreviousFraudTransactions', 'AccountAge',\n",
       "       'DailyTransactionCount', 'DailyTransactionAmount', 'IsInternational',\n",
       "       'TimeSinceLastTransaction', 'FraudFlag'],\n",
       "      dtype='object')"
      ]
     },
     "execution_count": 5,
     "metadata": {},
     "output_type": "execute_result"
    }
   ],
   "source": [
    "# Check for missing values\n",
    "print(df.isnull().sum())\n",
    "\n",
    "# Drop irrelevant columns\n",
    "df = df.drop(columns=['TransactionID', 'CustomerID', 'MerchantID', 'TransactionDateTime'])\n",
    "df.head()\n",
    "df.columns"
   ]
  },
  {
   "cell_type": "code",
   "execution_count": 19,
   "metadata": {},
   "outputs": [],
   "source": [
    "# Fill missing values in 'IP_Address' with mode\n",
    "df[\"IP_Address\"] = df[\"IP_Address\"].fillna(df[\"IP_Address\"].mode()[0])\n",
    "\n",
    "# Separate features and target variable\n",
    "X = df.drop(columns=['FraudFlag'])\n",
    "y = df['FraudFlag']"
   ]
  },
  {
   "cell_type": "code",
   "execution_count": 20,
   "metadata": {},
   "outputs": [
    {
     "data": {
      "text/html": [
       "<div>\n",
       "<style scoped>\n",
       "    .dataframe tbody tr th:only-of-type {\n",
       "        vertical-align: middle;\n",
       "    }\n",
       "\n",
       "    .dataframe tbody tr th {\n",
       "        vertical-align: top;\n",
       "    }\n",
       "\n",
       "    .dataframe thead th {\n",
       "        text-align: right;\n",
       "    }\n",
       "</style>\n",
       "<table border=\"1\" class=\"dataframe\">\n",
       "  <thead>\n",
       "    <tr style=\"text-align: right;\">\n",
       "      <th></th>\n",
       "      <th>TransactionAmount</th>\n",
       "      <th>MerchantCategory</th>\n",
       "      <th>TransactionType</th>\n",
       "      <th>CardType</th>\n",
       "      <th>EntryMode</th>\n",
       "      <th>TransactionLocation</th>\n",
       "      <th>IP_Address</th>\n",
       "      <th>DeviceType</th>\n",
       "      <th>CardPresent</th>\n",
       "      <th>PreviousFraudTransactions</th>\n",
       "      <th>AccountAge</th>\n",
       "      <th>DailyTransactionCount</th>\n",
       "      <th>DailyTransactionAmount</th>\n",
       "      <th>IsInternational</th>\n",
       "      <th>TimeSinceLastTransaction</th>\n",
       "    </tr>\n",
       "  </thead>\n",
       "  <tbody>\n",
       "    <tr>\n",
       "      <th>0</th>\n",
       "      <td>2833.262435</td>\n",
       "      <td>Retail</td>\n",
       "      <td>Withdrawal</td>\n",
       "      <td>Credit</td>\n",
       "      <td>Magstripe</td>\n",
       "      <td>Pamelaside</td>\n",
       "      <td>171.231.226.75</td>\n",
       "      <td>Tablet</td>\n",
       "      <td>0</td>\n",
       "      <td>4</td>\n",
       "      <td>596</td>\n",
       "      <td>5</td>\n",
       "      <td>6430.153621</td>\n",
       "      <td>1</td>\n",
       "      <td>66918</td>\n",
       "    </tr>\n",
       "    <tr>\n",
       "      <th>1</th>\n",
       "      <td>3404.762325</td>\n",
       "      <td>Retail</td>\n",
       "      <td>Purchase</td>\n",
       "      <td>Credit</td>\n",
       "      <td>Contactless</td>\n",
       "      <td>Camposview</td>\n",
       "      <td>22.174.135.157</td>\n",
       "      <td>POS</td>\n",
       "      <td>0</td>\n",
       "      <td>6</td>\n",
       "      <td>1014</td>\n",
       "      <td>5</td>\n",
       "      <td>5126.453239</td>\n",
       "      <td>1</td>\n",
       "      <td>71136</td>\n",
       "    </tr>\n",
       "    <tr>\n",
       "      <th>2</th>\n",
       "      <td>3376.091549</td>\n",
       "      <td>Electronics</td>\n",
       "      <td>Purchase</td>\n",
       "      <td>Debit</td>\n",
       "      <td>Online</td>\n",
       "      <td>Port Jenniferland</td>\n",
       "      <td>62.31.49.72</td>\n",
       "      <td>Mobile</td>\n",
       "      <td>1</td>\n",
       "      <td>3</td>\n",
       "      <td>540</td>\n",
       "      <td>8</td>\n",
       "      <td>2552.090223</td>\n",
       "      <td>1</td>\n",
       "      <td>75035</td>\n",
       "    </tr>\n",
       "    <tr>\n",
       "      <th>3</th>\n",
       "      <td>1199.136588</td>\n",
       "      <td>Entertainment</td>\n",
       "      <td>Withdrawal</td>\n",
       "      <td>Prepaid</td>\n",
       "      <td>Magstripe</td>\n",
       "      <td>Matthewfurt</td>\n",
       "      <td>98.6.224.64</td>\n",
       "      <td>Tablet</td>\n",
       "      <td>1</td>\n",
       "      <td>5</td>\n",
       "      <td>3351</td>\n",
       "      <td>2</td>\n",
       "      <td>4554.912188</td>\n",
       "      <td>1</td>\n",
       "      <td>46892</td>\n",
       "    </tr>\n",
       "    <tr>\n",
       "      <th>4</th>\n",
       "      <td>2315.429265</td>\n",
       "      <td>Entertainment</td>\n",
       "      <td>Transfer</td>\n",
       "      <td>Debit</td>\n",
       "      <td>Magstripe</td>\n",
       "      <td>Thomasstad</td>\n",
       "      <td>119.84.35.150</td>\n",
       "      <td>Mobile</td>\n",
       "      <td>0</td>\n",
       "      <td>7</td>\n",
       "      <td>12</td>\n",
       "      <td>9</td>\n",
       "      <td>2936.599542</td>\n",
       "      <td>1</td>\n",
       "      <td>41442</td>\n",
       "    </tr>\n",
       "  </tbody>\n",
       "</table>\n",
       "</div>"
      ],
      "text/plain": [
       "   TransactionAmount MerchantCategory TransactionType CardType    EntryMode  \\\n",
       "0        2833.262435           Retail      Withdrawal   Credit    Magstripe   \n",
       "1        3404.762325           Retail        Purchase   Credit  Contactless   \n",
       "2        3376.091549      Electronics        Purchase    Debit       Online   \n",
       "3        1199.136588    Entertainment      Withdrawal  Prepaid    Magstripe   \n",
       "4        2315.429265    Entertainment        Transfer    Debit    Magstripe   \n",
       "\n",
       "  TransactionLocation      IP_Address DeviceType  CardPresent  \\\n",
       "0          Pamelaside  171.231.226.75     Tablet            0   \n",
       "1          Camposview  22.174.135.157        POS            0   \n",
       "2   Port Jenniferland     62.31.49.72     Mobile            1   \n",
       "3         Matthewfurt     98.6.224.64     Tablet            1   \n",
       "4          Thomasstad   119.84.35.150     Mobile            0   \n",
       "\n",
       "   PreviousFraudTransactions  AccountAge  DailyTransactionCount  \\\n",
       "0                          4         596                      5   \n",
       "1                          6        1014                      5   \n",
       "2                          3         540                      8   \n",
       "3                          5        3351                      2   \n",
       "4                          7          12                      9   \n",
       "\n",
       "   DailyTransactionAmount  IsInternational  TimeSinceLastTransaction  \n",
       "0             6430.153621                1                     66918  \n",
       "1             5126.453239                1                     71136  \n",
       "2             2552.090223                1                     75035  \n",
       "3             4554.912188                1                     46892  \n",
       "4             2936.599542                1                     41442  "
      ]
     },
     "execution_count": 20,
     "metadata": {},
     "output_type": "execute_result"
    }
   ],
   "source": [
    "X.head()"
   ]
  },
  {
   "cell_type": "code",
   "execution_count": 21,
   "metadata": {},
   "outputs": [
    {
     "data": {
      "text/plain": [
       "Index(['TransactionAmount', 'MerchantCategory', 'TransactionType', 'CardType',\n",
       "       'EntryMode', 'TransactionLocation', 'IP_Address', 'DeviceType',\n",
       "       'CardPresent', 'PreviousFraudTransactions', 'AccountAge',\n",
       "       'DailyTransactionCount', 'DailyTransactionAmount', 'IsInternational',\n",
       "       'TimeSinceLastTransaction'],\n",
       "      dtype='object')"
      ]
     },
     "execution_count": 21,
     "metadata": {},
     "output_type": "execute_result"
    }
   ],
   "source": [
    "X.columns"
   ]
  },
  {
   "cell_type": "code",
   "execution_count": 22,
   "metadata": {},
   "outputs": [
    {
     "name": "stdout",
     "output_type": "stream",
     "text": [
      "Updated Data Types:\n",
      " TransactionAmount            float64\n",
      "MerchantCategory               int64\n",
      "TransactionType                int64\n",
      "CardType                       int64\n",
      "EntryMode                      int64\n",
      "TransactionLocation            int64\n",
      "IP_Address                     int64\n",
      "DeviceType                     int64\n",
      "CardPresent                    int64\n",
      "PreviousFraudTransactions      int64\n",
      "AccountAge                     int64\n",
      "DailyTransactionCount          int64\n",
      "DailyTransactionAmount       float64\n",
      "IsInternational                int64\n",
      "TimeSinceLastTransaction       int64\n",
      "dtype: object\n"
     ]
    }
   ],
   "source": [
    "\n",
    "\n",
    "# Identify categorical columns\n",
    "categorical_cols = [\"MerchantCategory\", \"TransactionType\", \"CardType\", \"EntryMode\",\n",
    "                    \"DeviceType\", \"TransactionLocation\", \"IP_Address\"]\n",
    "\n",
    "# Apply Label Encoding to categorical columns\n",
    "label_encoders = {}\n",
    "for col in categorical_cols:\n",
    "    le = LabelEncoder()\n",
    "    X[col] = le.fit_transform(X[col])  \n",
    "    label_encoders[col] = le\n",
    "\n",
    "# Save label encoders for future use\n",
    "joblib.dump(label_encoders, \"label_encoders.pkl\")\n",
    "\n",
    "# Verify all values are numeric\n",
    "print(\"Updated Data Types:\\n\", X.dtypes)\n"
   ]
  },
  {
   "cell_type": "code",
   "execution_count": 23,
   "metadata": {},
   "outputs": [
    {
     "name": "stdout",
     "output_type": "stream",
     "text": [
      "Class Distribution After SMOTE:\n",
      "FraudFlag\n",
      "0    3140\n",
      "1    3140\n",
      "Name: count, dtype: int64\n"
     ]
    }
   ],
   "source": [
    "# Split into training and test sets (70% train, 30% test)\n",
    "X_train, X_test, y_train, y_test = train_test_split(X, y, test_size=0.3, random_state=42, stratify=y)\n",
    "\n",
    "# Apply SMOTE to balance data\n",
    "smote = SMOTE(random_state=42)\n",
    "X_train_smote, y_train_smote = smote.fit_resample(X_train, y_train)\n",
    "\n",
    "# Verify new class distribution\n",
    "print(\"Class Distribution After SMOTE:\")\n",
    "print(y_train_smote.value_counts())\n",
    "\n",
    "# Scale features using StandardScaler\n",
    "scaler = StandardScaler()\n",
    "X_train_smote = scaler.fit_transform(X_train_smote)\n",
    "X_test = scaler.transform(X_test)\n"
   ]
  },
  {
   "cell_type": "code",
   "execution_count": 24,
   "metadata": {},
   "outputs": [],
   "source": [
    "def evaluate_model(model, X_test, y_test, model_name):\n",
    "    y_pred = model.predict(X_test)\n",
    "    accuracy = accuracy_score(y_test, y_pred)\n",
    "    conf_matrix = confusion_matrix(y_test, y_pred)\n",
    "    class_report = classification_report(y_test, y_pred)\n",
    "\n",
    "    print(f'\\n{model_name} Accuracy: {accuracy:.2f}')\n",
    "    print(f'{model_name} Classification Report:\\n{class_report}')\n",
    "\n",
    "    disp = ConfusionMatrixDisplay(confusion_matrix=conf_matrix, display_labels=['No Fraud', 'Fraud'])\n",
    "    disp.plot(cmap='Blues')\n",
    "    plt.title(f'{model_name} Confusion Matrix')\n",
    "    plt.show()\n",
    "\n",
    "    return accuracy\n"
   ]
  },
  {
   "cell_type": "code",
   "execution_count": 25,
   "metadata": {},
   "outputs": [
    {
     "name": "stdout",
     "output_type": "stream",
     "text": [
      "\n",
      "Logistic Regression Results:\n",
      "\n",
      "Logistic Regression Accuracy: 0.86\n",
      "Logistic Regression Classification Report:\n",
      "              precision    recall  f1-score   support\n",
      "\n",
      "           0       0.99      0.85      0.92      1346\n",
      "           1       0.41      0.91      0.57       154\n",
      "\n",
      "    accuracy                           0.86      1500\n",
      "   macro avg       0.70      0.88      0.74      1500\n",
      "weighted avg       0.93      0.86      0.88      1500\n",
      "\n"
     ]
    },
    {
     "data": {
      "image/png": "[encoded data removed]",
      "text/plain": [
       "<Figure size 640x480 with 2 Axes>"
      ]
     },
     "metadata": {},
     "output_type": "display_data"
    }
   ],
   "source": [
    "log_reg = LogisticRegression(max_iter=1000, class_weight='balanced', random_state=42)\n",
    "log_reg.fit(X_train_smote, y_train_smote)\n",
    "\n",
    "print(\"\\nLogistic Regression Results:\")\n",
    "log_reg_accuracy = evaluate_model(log_reg, X_test, y_test, \"Logistic Regression\")\n"
   ]
  },
  {
   "cell_type": "code",
   "execution_count": 26,
   "metadata": {},
   "outputs": [
    {
     "name": "stdout",
     "output_type": "stream",
     "text": [
      "\n",
      "Support Vector Machine Results:\n",
      "\n",
      "Support Vector Classifier Accuracy: 0.90\n",
      "Support Vector Classifier Classification Report:\n",
      "              precision    recall  f1-score   support\n",
      "\n",
      "           0       0.98      0.91      0.94      1346\n",
      "           1       0.50      0.81      0.62       154\n",
      "\n",
      "    accuracy                           0.90      1500\n",
      "   macro avg       0.74      0.86      0.78      1500\n",
      "weighted avg       0.93      0.90      0.91      1500\n",
      "\n"
     ]
    },
    {
     "data": {
      "image/png": "[encoded data removed]",
      "text/plain": [
       "<Figure size 640x480 with 2 Axes>"
      ]
     },
     "metadata": {},
     "output_type": "display_data"
    }
   ],
   "source": [
    "svc = SVC(probability=True, random_state=42)\n",
    "svc.fit(X_train_smote, y_train_smote)\n",
    "\n",
    "print(\"\\nSupport Vector Machine Results:\")\n",
    "svc_accuracy = evaluate_model(svc, X_test, y_test, \"Support Vector Classifier\")\n"
   ]
  },
  {
   "cell_type": "code",
   "execution_count": 27,
   "metadata": {},
   "outputs": [
    {
     "name": "stdout",
     "output_type": "stream",
     "text": [
      "\n",
      "Random Forest Results:\n",
      "\n",
      "Random Forest Accuracy: 0.91\n",
      "Random Forest Classification Report:\n",
      "              precision    recall  f1-score   support\n",
      "\n",
      "           0       0.98      0.92      0.95      1346\n",
      "           1       0.54      0.82      0.65       154\n",
      "\n",
      "    accuracy                           0.91      1500\n",
      "   macro avg       0.76      0.87      0.80      1500\n",
      "weighted avg       0.93      0.91      0.92      1500\n",
      "\n"
     ]
    },
    {
     "data": {
      "image/png": "[encoded data removed]",
      "text/plain": [
       "<Figure size 640x480 with 2 Axes>"
      ]
     },
     "metadata": {},
     "output_type": "display_data"
    }
   ],
   "source": [
    "rf = RandomForestClassifier(class_weight='balanced', random_state=42)\n",
    "rf.fit(X_train_smote, y_train_smote)\n",
    "\n",
    "print(\"\\nRandom Forest Results:\")\n",
    "rf_accuracy = evaluate_model(rf, X_test, y_test, \"Random Forest\")\n"
   ]
  },
  {
   "cell_type": "code",
   "execution_count": 28,
   "metadata": {},
   "outputs": [
    {
     "name": "stderr",
     "output_type": "stream",
     "text": [
      "c:\\Users\\Lenovo\\anaconda3\\envs\\nenv\\Lib\\site-packages\\xgboost\\core.py:158: UserWarning: [01:21:04] WARNING: C:\\buildkite-agent\\builds\\buildkite-windows-cpu-autoscaling-group-i-0ed59c031377d09b8-1\\xgboost\\xgboost-ci-windows\\src\\learner.cc:740: \n",
      "Parameters: { \"use_label_encoder\" } are not used.\n",
      "\n",
      "  warnings.warn(smsg, UserWarning)\n"
     ]
    },
    {
     "name": "stdout",
     "output_type": "stream",
     "text": [
      "\n",
      "XGBoost Results:\n",
      "\n",
      "XGBoost Accuracy: 0.91\n",
      "XGBoost Classification Report:\n",
      "              precision    recall  f1-score   support\n",
      "\n",
      "           0       0.97      0.93      0.95      1346\n",
      "           1       0.55      0.75      0.64       154\n",
      "\n",
      "    accuracy                           0.91      1500\n",
      "   macro avg       0.76      0.84      0.79      1500\n",
      "weighted avg       0.93      0.91      0.92      1500\n",
      "\n"
     ]
    },
    {
     "data": {
      "image/png": "[encoded data removed]",
      "text/plain": [
       "<Figure size 640x480 with 2 Axes>"
      ]
     },
     "metadata": {},
     "output_type": "display_data"
    }
   ],
   "source": [
    "xgb = XGBClassifier(use_label_encoder=False, eval_metric='mlogloss', random_state=42)\n",
    "xgb.fit(X_train_smote, y_train_smote)\n",
    "\n",
    "print(\"\\nXGBoost Results:\")\n",
    "xgboost_accuracy = evaluate_model(xgb, X_test, y_test, \"XGBoost\")\n"
   ]
  },
  {
   "cell_type": "code",
   "execution_count": 29,
   "metadata": {},
   "outputs": [
    {
     "name": "stdout",
     "output_type": "stream",
     "text": [
      "\n",
      "Classification Report (Threshold Adjusted):\n",
      "              precision    recall  f1-score   support\n",
      "\n",
      "           0       0.98      0.92      0.95      1346\n",
      "           1       0.55      0.82      0.66       154\n",
      "\n",
      "    accuracy                           0.91      1500\n",
      "   macro avg       0.76      0.87      0.80      1500\n",
      "weighted avg       0.93      0.91      0.92      1500\n",
      "\n"
     ]
    }
   ],
   "source": [
    "# Get fraud probabilities\n",
    "y_probs = xgb.predict_proba(X_test)[:, 1]  \n",
    "\n",
    "# Adjust threshold (e.g., 0.3)\n",
    "threshold = 0.3\n",
    "y_pred_adjusted = (y_probs > threshold).astype(int)\n",
    "\n",
    "print(\"\\nClassification Report (Threshold Adjusted):\")\n",
    "print(classification_report(y_test, y_pred_adjusted))\n"
   ]
  },
  {
   "cell_type": "code",
   "execution_count": 30,
   "metadata": {},
   "outputs": [
    {
     "name": "stdout",
     "output_type": "stream",
     "text": [
      "Best Model Saved as fraud_detection_model.pkl\n"
     ]
    }
   ],
   "source": [
    "# Choose the best model (e.g., XGBoost)\n",
    "best_model = xgb  \n",
    "\n",
    "# Save the model\n",
    "filename = 'fraud_detection_model.pkl'\n",
    "with open(filename, 'wb') as file:\n",
    "    pickle.dump(best_model, file)\n",
    "\n",
    "print(f\"Best Model Saved as {filename}\")\n",
    "\n",
    "\n"
   ]
  },
  {
   "cell_type": "code",
   "execution_count": 31,
   "metadata": {},
   "outputs": [
    {
     "data": {
      "text/plain": [
       "['scaler.pkl']"
      ]
     },
     "execution_count": 31,
     "metadata": {},
     "output_type": "execute_result"
    }
   ],
   "source": [
    "joblib.dump(scaler, \"scaler.pkl\")\n"
   ]
  },
  {
   "cell_type": "code",
   "execution_count": null,
   "metadata": {},
   "outputs": [],
   "source": []
  },
  {
   "cell_type": "code",
   "execution_count": null,
   "metadata": {},
   "outputs": [],
   "source": []
  },
  {
   "cell_type": "code",
   "execution_count": null,
   "metadata": {},
   "outputs": [],
   "source": []
  }
 ],
 "metadata": {
  "kernelspec": {
   "display_name": "nenv",
   "language": "python",
   "name": "python3"
  },
  "language_info": {
   "codemirror_mode": {
    "name": "ipython",
    "version": 3
   },
   "file_extension": ".py",
   "mimetype": "text/x-python",
   "name": "python",
   "nbconvert_exporter": "python",
   "pygments_lexer": "ipython3",
   "version": "3.12.7"
  }
 },
 "nbformat": 4,
 "nbformat_minor": 2
}
